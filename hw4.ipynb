{
 "cells": [
  {
   "cell_type": "code",
   "execution_count": 1,
   "metadata": {},
   "outputs": [
    {
     "ename": "ModuleNotFoundError",
     "evalue": "No module named 'numpy'",
     "output_type": "error",
     "traceback": [
      "\u001b[0;31m---------------------------------------------------------------------------\u001b[0m",
      "\u001b[0;31mModuleNotFoundError\u001b[0m                       Traceback (most recent call last)",
      "\u001b[1;32m/Users/ego/Downloads/hw4.ipynb Cell 1\u001b[0m in \u001b[0;36m1\n\u001b[0;32m----> <a href='vscode-notebook-cell:/Users/ego/Downloads/hw4.ipynb#W0sZmlsZQ%3D%3D?line=0'>1</a>\u001b[0m \u001b[39mimport\u001b[39;00m \u001b[39mnumpy\u001b[39;00m \u001b[39mas\u001b[39;00m \u001b[39mnp\u001b[39;00m\n\u001b[1;32m      <a href='vscode-notebook-cell:/Users/ego/Downloads/hw4.ipynb#W0sZmlsZQ%3D%3D?line=1'>2</a>\u001b[0m get_ipython()\u001b[39m.\u001b[39mrun_line_magic(\u001b[39m'\u001b[39m\u001b[39mmatplotlib\u001b[39m\u001b[39m'\u001b[39m, \u001b[39m'\u001b[39m\u001b[39minline\u001b[39m\u001b[39m'\u001b[39m)\n\u001b[1;32m      <a href='vscode-notebook-cell:/Users/ego/Downloads/hw4.ipynb#W0sZmlsZQ%3D%3D?line=2'>3</a>\u001b[0m \u001b[39mfrom\u001b[39;00m \u001b[39mmatplotlib\u001b[39;00m \u001b[39mimport\u001b[39;00m pyplot \u001b[39mas\u001b[39;00m plt\n",
      "\u001b[0;31mModuleNotFoundError\u001b[0m: No module named 'numpy'"
     ]
    }
   ],
   "source": [
    "import numpy as np\n",
    "%matplotlib inline\n",
    "from matplotlib import pyplot as plt"
   ]
  },
  {
   "cell_type": "code",
   "execution_count": 2,
   "metadata": {},
   "outputs": [],
   "source": [
    "def przzz(x, z):\n",
    "    y = x + z\n",
    "    zz = y - x\n",
    "    print('{0:>10}:{1:.16e}'.format('z', z))\n",
    "    print('{0:>10}:{1:.16e}'.format('zz', zz))\n",
    "    "
   ]
  },
  {
   "cell_type": "code",
   "execution_count": 3,
   "metadata": {},
   "outputs": [
    {
     "ename": "NameError",
     "evalue": "name 'np' is not defined",
     "output_type": "error",
     "traceback": [
      "\u001b[0;31m---------------------------------------------------------------------------\u001b[0m",
      "\u001b[0;31mNameError\u001b[0m                                 Traceback (most recent call last)",
      "\u001b[1;32m/Users/ego/Downloads/hw4.ipynb Cell 3\u001b[0m in \u001b[0;36m1\n\u001b[0;32m----> <a href='vscode-notebook-cell:/Users/ego/Downloads/hw4.ipynb#W2sZmlsZQ%3D%3D?line=0'>1</a>\u001b[0m przzz(x \u001b[39m=\u001b[39m np\u001b[39m.\u001b[39msqrt(\u001b[39m2\u001b[39m), z \u001b[39m=\u001b[39m \u001b[39m2\u001b[39m\u001b[39m*\u001b[39m\u001b[39m*\u001b[39m(\u001b[39m-\u001b[39m\u001b[39m50\u001b[39m))\n",
      "\u001b[0;31mNameError\u001b[0m: name 'np' is not defined"
     ]
    }
   ],
   "source": [
    "przzz(x = np.sqrt(2), z = 2**(-50))"
   ]
  },
  {
   "cell_type": "code",
   "execution_count": 4,
   "metadata": {},
   "outputs": [
    {
     "name": "stdout",
     "output_type": "stream",
     "text": [
      "         z:1.2560739669470115e-15\n",
      "        zz:1.3322676295501878e-15\n"
     ]
    }
   ],
   "source": [
    "przzz(x = np.sqrt(2), z = np.sqrt(2)**(-99))"
   ]
  },
  {
   "cell_type": "markdown",
   "metadata": {},
   "source": [
    "### Float to its binary representation ###\n",
    "### Code posted by Dan Lecocq on 13 Nov 2014 ###\n"
   ]
  },
  {
   "cell_type": "code",
   "execution_count": 5,
   "metadata": {},
   "outputs": [],
   "source": [
    "def binary(num):\n",
    "    # Struct can provide us with the float packed into bytes. The '!' ensures that\n",
    "    # it's in network byte order (big-endian) and the 'd' says that it should be\n",
    "    # packed as a float. Alternatively, for single-precision, you could use 'f'.\n",
    "    #print('Num: {0:.16e}'.format(num))\n",
    "    import struct\n",
    "    packed = struct.pack('!d', num)\n",
    "    #print('Packed: {0}'.format(repr(packed)))\n",
    "\n",
    "    # For each character in the returned string, we'll turn it into its corresponding\n",
    "    # integer code point\n",
    "    # \n",
    "    # [62, 163, 215, 10] = [ord(c) for c in '>\\xa3\\xd7\\n']\n",
    "    integers = [c for c in packed]\n",
    "    #print('Integers: {0}'.format(integers))\n",
    "\n",
    "    # For each integer, we'll convert it to its binary representation.\n",
    "    binaries = [bin(i) for i in integers]\n",
    "    #print('Binaries: {0}'.format(binaries))\n",
    "\n",
    "    # Now strip off the '0b' from each of these\n",
    "    stripped_binaries = [s.replace('0b', '') for s in binaries]\n",
    "    #print('Stripped: {0}'.format(stripped_binaries))\n",
    "\n",
    "    # Pad each byte's binary representation's with 0's to make sure it has all 8 bits:\n",
    "    #\n",
    "    # ['00111110', '10100011', '11010111', '00001010']\n",
    "    padded = [s.rjust(8, '0') for s in stripped_binaries]\n",
    "    #print('Padded: {0}'.format(padded))\n",
    "    \n",
    "    # At this point, we have each of the bytes for the network byte ordered float\n",
    "    # in an array as binary strings. Now we just concatenate them to get the total\n",
    "    # representation of the float:\n",
    "    print('Bit string: {0}'.format(''.join(padded)))\n",
    "    \n",
    "    # Calucalate sign, exponent, and mantissa\n",
    "    sign = padded[0][0]\n",
    "    e = 0\n",
    "    for i in range(1,8):\n",
    "        e += int(padded[0][i])*2**(10-i+1)\n",
    "    for i in range(0,4):\n",
    "        e += int(padded[1][i])*2**(3-i)\n",
    "    mantissa = padded[1][4:]\n",
    "    for i in range(2,8):\n",
    "        mantissa = mantissa + padded[i]\n",
    "    print('Sign bit: {0}'.format(sign))\n",
    "    print('Exponent: {0}'.format(e-1023))\n",
    "    print('Mantissa: {0}'.format(mantissa))\n",
    "\n",
    "    "
   ]
  },
  {
   "cell_type": "code",
   "execution_count": 6,
   "metadata": {},
   "outputs": [],
   "source": [
    "def binary_zzz(x, z):\n",
    "    y = x + z\n",
    "    zz = y - x\n",
    "    binary(z)\n",
    "    binary(zz)"
   ]
  },
  {
   "cell_type": "code",
   "execution_count": 7,
   "metadata": {},
   "outputs": [
    {
     "name": "stdout",
     "output_type": "stream",
     "text": [
      "Bit string: 0100000000100000000000000000000000000000000000000000000000000000\n",
      "Sign bit: 0\n",
      "Exponent: 3\n",
      "Mantissa: 0000000000000000000000000000000000000000000000000000\n"
     ]
    }
   ],
   "source": [
    "binary(8.0)\n"
   ]
  },
  {
   "cell_type": "markdown",
   "metadata": {},
   "source": [
    "### $\\arccos(1-\\frac{1}{2^{53}})$"
   ]
  },
  {
   "cell_type": "code",
   "execution_count": 18,
   "metadata": {},
   "outputs": [],
   "source": [
    "import sympy as spy\n",
    "one = spy.sympify(1)"
   ]
  },
  {
   "cell_type": "code",
   "execution_count": 20,
   "metadata": {},
   "outputs": [],
   "source": [
    "a = one - one/(one+one)**53"
   ]
  },
  {
   "cell_type": "code",
   "execution_count": 24,
   "metadata": {},
   "outputs": [],
   "source": [
    "b = spy.acos(a)"
   ]
  },
  {
   "cell_type": "code",
   "execution_count": 25,
   "metadata": {},
   "outputs": [
    {
     "name": "stdout",
     "output_type": "stream",
     "text": [
      "0.000000014901161193847656387863435425504615922399221269664356222072542313849407660287267665211634314308987640533218959445046994975030695797136952362198508827152929115158027667978441912211304320742160322632029\n"
     ]
    }
   ],
   "source": [
    "print(spy.N(b, 200))"
   ]
  },
  {
   "cell_type": "markdown",
   "metadata": {},
   "source": [
    "### $10^{100}/\\pi$"
   ]
  },
  {
   "cell_type": "code",
   "execution_count": null,
   "metadata": {},
   "outputs": [],
   "source": [
    "import sympy as spy\n",
    "from sympy import abc as abc"
   ]
  },
  {
   "cell_type": "code",
   "execution_count": 4,
   "metadata": {},
   "outputs": [
    {
     "name": "stdout",
     "output_type": "stream",
     "text": [
      "10000000000000000000000000000000000000000000000000000000000000000000000000000000000000000000000000000/pi\n"
     ]
    }
   ],
   "source": [
    "q = spy.sympify(10)**100/spy.pi\n",
    "print(q)"
   ]
  },
  {
   "cell_type": "code",
   "execution_count": 6,
   "metadata": {},
   "outputs": [
    {
     "data": {
      "text/latex": [
       "$\\displaystyle 3183098861837906715377675267450287240689192914809128974953346881177935952684530701802276055325061719.1214568545351591607378582369222915730575593482146339967845847993387481815514615549279385061537743479$"
      ],
      "text/plain": [
       "3183098861837906715377675267450287240689192914809128974953346881177935952684530701802276055325061719.1214568545351591607378582369222915730575593482146339967845847993387481815514615549279385061537743479"
      ]
     },
     "execution_count": 6,
     "metadata": {},
     "output_type": "execute_result"
    }
   ],
   "source": [
    "spy.N(q, 200)"
   ]
  },
  {
   "cell_type": "code",
   "execution_count": 17,
   "metadata": {},
   "outputs": [
    {
     "name": "stdout",
     "output_type": "stream",
     "text": [
      "0.12145685453515916073785823692229157305755934821463399678458479933874818155146155492793850615377434785781722082060832107996849387045717416634761044098596459412414025791837229449662641994232504271267343\n",
      "0.12145685453515916\n"
     ]
    }
   ],
   "source": [
    "rem = spy.N(q, 200) - spy.floor(spy.N(q, 200))\n",
    "print(rem)\n",
    "print(float(rem))"
   ]
  },
  {
   "cell_type": "markdown",
   "metadata": {},
   "source": [
    "### Evaluation of $$\\frac{1-\\cos x}{x^2}$$ ###"
   ]
  },
  {
   "cell_type": "code",
   "execution_count": 12,
   "metadata": {},
   "outputs": [
    {
     "name": "stdout",
     "output_type": "stream",
     "text": [
      "0.4996003610813205\n",
      "0.4999999999999995\n"
     ]
    }
   ],
   "source": [
    "import numpy as np\n",
    "x = 1e-7\n",
    "y = (1 - np.cos (x))/x**2\n",
    "cx = np.cos(x)\n",
    "z = (1 - cx)/ np.arccos(cx)**2\n",
    "print (y)\n",
    "print (z)"
   ]
  }
 ],
 "metadata": {
  "kernelspec": {
   "display_name": "Python 3 (ipykernel)",
   "language": "python",
   "name": "python3"
  },
  "language_info": {
   "codemirror_mode": {
    "name": "ipython",
    "version": 3
   },
   "file_extension": ".py",
   "mimetype": "text/x-python",
   "name": "python",
   "nbconvert_exporter": "python",
   "pygments_lexer": "ipython3",
   "version": "3.10.4"
  }
 },
 "nbformat": 4,
 "nbformat_minor": 2
}
